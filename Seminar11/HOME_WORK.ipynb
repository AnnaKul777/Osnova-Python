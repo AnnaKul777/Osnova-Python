{
 "cells": [
  {
   "cell_type": "code",
   "execution_count": 1,
   "id": "d0ce80fa",
   "metadata": {},
   "outputs": [],
   "source": [
    "# Дана функция: \n",
    "\n",
    "# f(x) = -12x**4*sin(cos(x)) - 18x**3+5x**2 + 10x - 30\n",
    "\n",
    "# 1. Определить корни\n",
    "\n",
    "# 2. Найти интервалы, на которых функция возрастает\n",
    "\n",
    "# 3. Найти интервалы, на которых функция убывает\n",
    "\n",
    "# 4. Построить график\n",
    "\n",
    "# 5. Вычислить вершину\n",
    "\n",
    "# 6. Определить промежутки, на котором f > 0\n",
    "\n",
    "# 7. Определить промежутки, на котором f < 0"
   ]
  },
  {
   "cell_type": "code",
   "execution_count": 2,
   "id": "5774c41e",
   "metadata": {
    "scrolled": false
   },
   "outputs": [],
   "source": [
    "import numpy as np\n",
    "import matplotlib.pyplot as plt"
   ]
  },
  {
   "cell_type": "code",
   "execution_count": 3,
   "id": "f872ccfd",
   "metadata": {},
   "outputs": [],
   "source": [
    "a, b, c, d, e = - 12, - 18, 5, 10, - 30"
   ]
  },
  {
   "cell_type": "code",
   "execution_count": 4,
   "id": "3e23c8d4",
   "metadata": {},
   "outputs": [],
   "source": [
    "limit = 10\n",
    "step = 0.01\n",
    "step_acr = 0.0000001\n",
    "line_style = '-'\n",
    "color = 'b'\n",
    "direct_up = True"
   ]
  },
  {
   "cell_type": "code",
   "execution_count": 5,
   "id": "119327b5",
   "metadata": {},
   "outputs": [],
   "source": [
    "def switch_line():  # стиль линии\n",
    "    global line_style\n",
    "    if line_style == '-':\n",
    "        line_style = '--'\n",
    "    else:\n",
    "        line_style = '-'\n",
    "    return line_style"
   ]
  },
  {
   "cell_type": "code",
   "execution_count": 6,
   "id": "24be385f",
   "metadata": {},
   "outputs": [],
   "source": [
    "def switch_color():\n",
    "    global color\n",
    "    if color == 'b':\n",
    "        color = 'r'\n",
    "    else:\n",
    "        color = 'b'\n",
    "    return color"
   ]
  },
  {
   "cell_type": "code",
   "execution_count": 7,
   "id": "77d4a584",
   "metadata": {},
   "outputs": [],
   "source": [
    "def func(x):\n",
    "    f = a * x ** 4 * np.sin(np.cos(x)) + b * x ** 3 + c * x ** 2 + d * x + e\n",
    "    return f"
   ]
  },
  {
   "cell_type": "code",
   "execution_count": 8,
   "id": "59ccea6e",
   "metadata": {},
   "outputs": [],
   "source": [
    "x = np.arange(-limit, limit + step, step)\n",
    "\n",
    "x_change = [(-limit, 'limit')]"
   ]
  },
  {
   "cell_type": "code",
   "execution_count": 9,
   "id": "ed4d9d59",
   "metadata": {},
   "outputs": [],
   "source": [
    "for i in range(len(x) - 1):\n",
    "    if func(x[i]) > 0 and func(x[i + 1]) < 0 or func(x[i]) < 0 and func(x[i + 1]) > 0:\n",
    "        x_acr = np.arange(x[i], x[i+1] + step_acr, step_acr)\n",
    "        for j in range(len(x_acr)-1):\n",
    "            if func(x_acr[j]) > 0 and func(x_acr[j + 1]) < 0 or func(x_acr[j]) < 0 and func(x_acr[j + 1]) > 0:\n",
    "                x_change.append((x_acr[j], 'zero'))"
   ]
  },
  {
   "cell_type": "code",
   "execution_count": 10,
   "id": "26b72c29",
   "metadata": {},
   "outputs": [],
   "source": [
    "    if direct_up:\n",
    "        if func(x[i]) > func(x[i + 1]):\n",
    "            direct_up = False\n",
    "            x_change.append((x[i], 'dir'))\n",
    "        else:\n",
    "            if func(x[i]) < func(x[i + 1]):\n",
    "                direct_up = True\n",
    "                x_change.append((x[i], 'dir'))"
   ]
  },
  {
   "cell_type": "code",
   "execution_count": 11,
   "id": "fae3987e",
   "metadata": {},
   "outputs": [],
   "source": [
    "x_change.append((limit, 'limit'))"
   ]
  },
  {
   "cell_type": "code",
   "execution_count": null,
   "id": "b8304f21",
   "metadata": {},
   "outputs": [],
   "source": []
  },
  {
   "cell_type": "code",
   "execution_count": 12,
   "id": "09346980",
   "metadata": {},
   "outputs": [
    {
     "data": {
      "image/png": "[encoded data removed]",
      "text/plain": [
       "<Figure size 640x480 with 1 Axes>"
      ]
     },
     "metadata": {},
     "output_type": "display_data"
    }
   ],
   "source": [
    "for i in range(len(x_change) - 1):\n",
    "    cur_x = np.arange(x_change[i][0], x_change[i + 1][0]+step, step)\n",
    "    if x_change[i][1] == 'zero':\n",
    "        plt.plot(x_change[i][0], func(x_change[i][0]), 'go')\n",
    "        plt.rcParams['lines.linestyle'] = switch_line()\n",
    "        plt.plot(cur_x, func(cur_x), color)  # отрисовка графика\n",
    "    else:\n",
    "        plt.plot(cur_x, func(cur_x), switch_color())"
   ]
  },
  {
   "cell_type": "code",
   "execution_count": null,
   "id": "595522f6",
   "metadata": {},
   "outputs": [],
   "source": []
  },
  {
   "cell_type": "code",
   "execution_count": null,
   "id": "4b68ce4a",
   "metadata": {},
   "outputs": [],
   "source": []
  }
 ],
 "metadata": {
  "kernelspec": {
   "display_name": "Python 3 (ipykernel)",
   "language": "python",
   "name": "python3"
  },
  "language_info": {
   "codemirror_mode": {
    "name": "ipython",
    "version": 3
   },
   "file_extension": ".py",
   "mimetype": "text/x-python",
   "name": "python",
   "nbconvert_exporter": "python",
   "pygments_lexer": "ipython3",
   "version": "3.11.0"
  }
 },
 "nbformat": 4,
 "nbformat_minor": 5
}
